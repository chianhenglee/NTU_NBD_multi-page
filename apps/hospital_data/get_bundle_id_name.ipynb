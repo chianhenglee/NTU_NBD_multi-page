{
 "cells": [
  {
   "cell_type": "code",
   "execution_count": 2,
   "metadata": {
    "collapsed": true
   },
   "outputs": [],
   "source": [
    "import pandas as pd"
   ]
  },
  {
   "cell_type": "code",
   "execution_count": 15,
   "metadata": {},
   "outputs": [
    {
     "name": "stdout",
     "output_type": "stream",
     "text": [
      "Index(['bundle_id', 'cause_name'], dtype='object')\n",
      "277\n"
     ]
    },
    {
     "data": {
      "text/html": [
       "<div>\n",
       "<style scoped>\n",
       "    .dataframe tbody tr th:only-of-type {\n",
       "        vertical-align: middle;\n",
       "    }\n",
       "\n",
       "    .dataframe tbody tr th {\n",
       "        vertical-align: top;\n",
       "    }\n",
       "\n",
       "    .dataframe thead th {\n",
       "        text-align: right;\n",
       "    }\n",
       "</style>\n",
       "<table border=\"1\" class=\"dataframe\">\n",
       "  <thead>\n",
       "    <tr style=\"text-align: right;\">\n",
       "      <th></th>\n",
       "      <th>bundle_id</th>\n",
       "      <th>cause_name</th>\n",
       "    </tr>\n",
       "  </thead>\n",
       "  <tbody>\n",
       "    <tr>\n",
       "      <th>0</th>\n",
       "      <td>1</td>\n",
       "      <td>Tuberculosis</td>\n",
       "    </tr>\n",
       "    <tr>\n",
       "      <th>1</th>\n",
       "      <td>3</td>\n",
       "      <td>Diarrheal diseases</td>\n",
       "    </tr>\n",
       "    <tr>\n",
       "      <th>2</th>\n",
       "      <td>14</td>\n",
       "      <td>Clostridium difficile</td>\n",
       "    </tr>\n",
       "    <tr>\n",
       "      <th>3</th>\n",
       "      <td>17</td>\n",
       "      <td>Typhoid fever</td>\n",
       "    </tr>\n",
       "    <tr>\n",
       "      <th>4</th>\n",
       "      <td>18</td>\n",
       "      <td>Paratyphoid fever</td>\n",
       "    </tr>\n",
       "    <tr>\n",
       "      <th>5</th>\n",
       "      <td>19</td>\n",
       "      <td>Lower respiratory infections</td>\n",
       "    </tr>\n",
       "    <tr>\n",
       "      <th>6</th>\n",
       "      <td>25</td>\n",
       "      <td>Upper respiratory infections</td>\n",
       "    </tr>\n",
       "    <tr>\n",
       "      <th>7</th>\n",
       "      <td>26</td>\n",
       "      <td>Otitis media</td>\n",
       "    </tr>\n",
       "    <tr>\n",
       "      <th>8</th>\n",
       "      <td>27</td>\n",
       "      <td>Otitis media</td>\n",
       "    </tr>\n",
       "    <tr>\n",
       "      <th>9</th>\n",
       "      <td>28</td>\n",
       "      <td>Meningitis</td>\n",
       "    </tr>\n",
       "  </tbody>\n",
       "</table>\n",
       "</div>"
      ],
      "text/plain": [
       "   bundle_id                    cause_name\n",
       "0          1                  Tuberculosis\n",
       "1          3            Diarrheal diseases\n",
       "2         14         Clostridium difficile\n",
       "3         17                 Typhoid fever\n",
       "4         18             Paratyphoid fever\n",
       "5         19  Lower respiratory infections\n",
       "6         25  Upper respiratory infections\n",
       "7         26                  Otitis media\n",
       "8         27                  Otitis media\n",
       "9         28                    Meningitis"
      ]
     },
     "execution_count": 15,
     "metadata": {},
     "output_type": "execute_result"
    }
   ],
   "source": [
    "raw_df = pd.read_excel('bundle_names_new.xlsx')\n",
    "raw_df = pd.read_csv('bundle_to_cause_clinical.csv',usecols=['bundle_id','cause_name'])\n",
    "\n",
    "raw_df.drop_duplicates(keep='first',inplace=True)\n",
    "#raw_df.columns=['bundle_id','cause_name']\n",
    "print(raw_df.columns)\n",
    "print(len(raw_df))\n",
    "raw_df.head(10)"
   ]
  },
  {
   "cell_type": "code",
   "execution_count": 21,
   "metadata": {},
   "outputs": [],
   "source": [
    "\timport pandas as pd\n",
    "\n",
    "\traw_df = pd.read_csv('bundle_to_cause_clinical.csv',usecols=['bundle_id','cause_name'])\n",
    "\t#raw_df = pd.read_csv(filename,usecols=[bundle_id_column_name,disease_column_name])\n",
    "\traw_df.drop_duplicates(keep='first',inplace=True)\n",
    "\n",
    "\n",
    "\tid_names = {}\n",
    "\tfor i in range(len(raw_df)):\n",
    "\n",
    "\t\tbundle_id=raw_df.iloc[i]['bundle_id']\n",
    "\t\tname=raw_df.iloc[i]['cause_name']\n",
    "\t\tid_names[bundle_id]=name"
   ]
  },
  {
   "cell_type": "code",
   "execution_count": 24,
   "metadata": {},
   "outputs": [
    {
     "data": {
      "text/plain": [
       "dict_keys([1, 3, 14, 17, 18, 19, 25, 26, 27, 28, 44, 45, 46, 47, 49, 50, 53, 54, 60, 61, 64, 74, 75, 76, 77, 78, 80, 82, 92, 93, 94, 95, 96, 97, 98, 99, 104, 113, 114, 115, 116, 118, 119, 121, 122, 125, 126, 127, 128, 129, 130, 131, 138, 139, 140, 141, 142, 143, 144, 145, 146, 147, 148, 149, 150, 151, 152, 153, 155, 156, 157, 158, 159, 160, 161, 162, 163, 164, 165, 166, 167, 168, 173, 174, 175, 176, 181, 182, 195, 196, 198, 199, 201, 202, 203, 204, 206, 207, 208, 209, 210, 211, 212, 213, 214, 215, 216, 217, 218, 219, 220, 231, 232, 233, 234, 235, 236, 237, 238, 239, 240, 241, 242, 243, 244, 245, 246, 248, 250, 255, 257, 258, 261, 262, 263, 265, 266, 267, 268, 271, 273, 274, 277, 278, 283, 291, 292, 293, 294, 327, 333, 334, 336, 338, 345, 354, 355, 356, 357, 358, 359, 360, 361, 363, 364, 365, 366, 367, 368, 369, 370, 371, 374, 396, 409, 422, 423, 429, 435, 436, 437, 438, 439, 440, 449, 451, 453, 454, 455, 456, 458, 484, 500, 502, 541, 542, 543, 544, 545, 602, 604, 606, 608, 610, 612, 614, 616, 618, 620, 622, 624, 626, 628, 630, 632, 634, 636, 638, 646, 661, 662, 663, 664, 667, 686, 687, 695, 696, 751, 752, 762, 763, 764, 765, 766, 833, 899, 1010, 1013, 2972, 2975, 2978, 2987, 2990, 2993, 2996, 3008, 3011, 3020, 3023, 3029, 3039, 3044, 3047, 3053, 3059, 3065, 3074, 3081, 3082, 3086, 3119, 3131, 3134, 3137, 3140, 3188, 3196, 3197, 3198, 3200, 3201, 3202, 3227, 3260, 3263, 3419])"
      ]
     },
     "execution_count": 24,
     "metadata": {},
     "output_type": "execute_result"
    }
   ],
   "source": [
    "id_names.keys()"
   ]
  },
  {
   "cell_type": "code",
   "execution_count": 165,
   "metadata": {
    "collapsed": true
   },
   "outputs": [],
   "source": [
    "bundle_id_name={}\n",
    "\n",
    "for i in raw_df['bundle_id'].unique():\n",
    "    \n",
    "    bundle_id_name[i]=list(raw_df.loc[raw_df['bundle_id']==i]['bundle_name'])\n"
   ]
  },
  {
   "cell_type": "code",
   "execution_count": 167,
   "metadata": {},
   "outputs": [
    {
     "data": {
      "text/plain": [
       "dict_keys([0, 1, 3, 14, 17, 18, 19, 20, 25, 26, 27, 28, 45, 46, 47, 49, 50, 53, 54, 60, 61, 64, 74, 75, 77, 79, 80, 82, 92, 93, 94, 96, 97, 98, 99, 104, 113, 114, 115, 119, 121, 122, 125, 126, 127, 128, 129, 130, 131, 136, 137, 138, 139, 140, 141, 142, 143, 144, 145, 146, 147, 148, 149, 150, 151, 152, 153, 155, 156, 157, 158, 159, 160, 161, 162, 163, 164, 165, 166, 167, 168, 173, 181, 182, 195, 196, 198, 199, 201, 202, 203, 204, 207, 209, 210, 211, 212, 213, 214, 217, 218, 219, 220, 231, 232, 233, 234, 235, 236, 237, 238, 239, 240, 241, 242, 243, 244, 245, 246, 248, 250, 255, 257, 258, 261, 262, 263, 265, 266, 267, 268, 269, 271, 273, 274, 277, 278, 291, 292, 293, 294, 327, 328, 338, 345, 354, 355, 356, 357, 358, 359, 360, 361, 362, 363, 364, 365, 366, 367, 368, 369, 370, 371, 374, 409, 422, 423, 429, 435, 436, 437, 438, 439, 440, 449, 451, 453, 454, 455, 456, 458, 484, 502, 541, 542, 604, 606, 610, 612, 614, 616, 618, 622, 624, 626, 630, 632, 634, 636, 638, 646, 695, 696, 751, 752, 762, 763, 764, 766, 799, 803, 808, 833, '_none'])"
      ]
     },
     "execution_count": 167,
     "metadata": {},
     "output_type": "execute_result"
    }
   ],
   "source": [
    "bundle_id_name.keys()"
   ]
  },
  {
   "cell_type": "code",
   "execution_count": 174,
   "metadata": {},
   "outputs": [
    {
     "data": {
      "text/plain": [
       "['Lower respiratory infections']"
      ]
     },
     "execution_count": 174,
     "metadata": {},
     "output_type": "execute_result"
    }
   ],
   "source": [
    "bundle_id_name[20]"
   ]
  },
  {
   "cell_type": "markdown",
   "metadata": {},
   "source": [
    "----------------"
   ]
  },
  {
   "cell_type": "code",
   "execution_count": null,
   "metadata": {
    "collapsed": true
   },
   "outputs": [],
   "source": []
  },
  {
   "cell_type": "code",
   "execution_count": null,
   "metadata": {
    "collapsed": true
   },
   "outputs": [],
   "source": []
  },
  {
   "cell_type": "code",
   "execution_count": null,
   "metadata": {
    "collapsed": true
   },
   "outputs": [],
   "source": []
  },
  {
   "cell_type": "code",
   "execution_count": null,
   "metadata": {
    "collapsed": true
   },
   "outputs": [],
   "source": []
  },
  {
   "cell_type": "code",
   "execution_count": null,
   "metadata": {
    "collapsed": true
   },
   "outputs": [],
   "source": []
  },
  {
   "cell_type": "code",
   "execution_count": null,
   "metadata": {
    "collapsed": true
   },
   "outputs": [],
   "source": []
  }
 ],
 "metadata": {
  "kernelspec": {
   "display_name": "Python 3",
   "language": "python",
   "name": "python3"
  },
  "language_info": {
   "codemirror_mode": {
    "name": "ipython",
    "version": 3
   },
   "file_extension": ".py",
   "mimetype": "text/x-python",
   "name": "python",
   "nbconvert_exporter": "python",
   "pygments_lexer": "ipython3",
   "version": "3.6.5"
  }
 },
 "nbformat": 4,
 "nbformat_minor": 2
}
